{
  "nbformat": 4,
  "nbformat_minor": 0,
  "metadata": {
    "colab": {
      "provenance": []
    },
    "kernelspec": {
      "name": "python3",
      "display_name": "Python 3"
    },
    "language_info": {
      "name": "python"
    }
  },
  "cells": [
    {
      "cell_type": "code",
      "execution_count": null,
      "metadata": {
        "id": "875Fmdv99gsC"
      },
      "outputs": [],
      "source": [
        "{\n",
        "  \"nbformat\": 4,\n",
        "  \"nbformat_minor\": 0,\n",
        "  \"metadata\": {\n",
        "    \"colab\": {\n",
        "      \"provenance\": []\n",
        "    },\n",
        "    \"kernelspec\": {\n",
        "      \"name\": \"python3\",\n",
        "      \"display_name\": \"Python 3\"\n",
        "    },\n",
        "    \"language_info\": {\n",
        "      \"name\": \"python\"\n",
        "    }\n",
        "  },\n",
        "  \"cells\": [\n",
        "    {\n",
        "      \"cell_type\": \"code\",\n",
        "      \"execution_count\": null,\n",
        "      \"metadata\": {\n",
        "        \"id\": \"ghNF4wIPmlsc\"\n",
        "      },\n",
        "      \"outputs\": [],\n",
        "      \"source\": [\n",
        "        \"checkpoint = ModelCheckpoint(r'D:\\\\IBM Project\\\\gesture.h5',\\n\",\n",
        "        \"                            monitor='val_loss',save_best_only=True,verbose=3)\\n\",\n",
        "        \"\\n\",\n",
        "        \"earlystop = EarlyStopping(monitor = 'val_loss', patience=7, verbose= 3, restore_best_weights=True)\\n\",\n",
        "        \"\\n\",\n",
        "        \"learning_rate = ReduceLROnPlateau(monitor= 'val_loss', patience=7, verbose= 3, )\\n\",\n",
        "        \"\\n\",\n",
        "        \"callbacks=[checkpoint,earlystop,learning_rate]\\n\",\n",
        "        \"\\n\",\n",
        "        \"model.fit_generator(train_gen,\\n\",\n",
        "        \"                    epochs=25,\\n\",\n",
        "        \"                    steps_per_epoch=18000//32,\\n\",\n",
        "        \"                    validation_data=test_gen,\\n\",\n",
        "        \"                    callbacks=callbacks,\\n\",\n",
        "        \"                    verbose = 1,validation_steps=3600//32)\"\n",
        "      ]\n",
        "    }\n",
        "  ]\n",
        "}"
      ]
    }
  ]
}